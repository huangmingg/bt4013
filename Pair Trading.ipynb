{
 "cells": [
  {
   "cell_type": "code",
   "execution_count": 1,
   "id": "grave-determination",
   "metadata": {
    "tags": []
   },
   "outputs": [],
   "source": [
    "import pandas as pd\n",
    "import os\n",
    "import numpy as np"
   ]
  },
  {
   "cell_type": "code",
   "execution_count": 2,
   "id": "cultural-weekly",
   "metadata": {},
   "outputs": [],
   "source": [
    "files = pd.DataFrame()\n",
    "\n",
    "for filename in os.listdir(\"tickerData\"):\n",
    "    if filename.endswith(\".txt\"):\n",
    "        x = pd.read_csv(\"tickerData/\"+filename)\n",
    "        x.columns = [y.replace(\" \", \"\") for y in x.columns]\n",
    "        x['TICKER'] = filename[:-4]\n",
    "        files = pd.concat([files,x], ignore_index=True)\n",
    "        "
   ]
  },
  {
   "cell_type": "code",
   "execution_count": 3,
   "id": "brave-reward",
   "metadata": {},
   "outputs": [],
   "source": [
    "files['DATE']  = pd.to_datetime(files['DATE'].astype('str'), format = \"%Y/%m/%d\")"
   ]
  },
  {
   "cell_type": "code",
   "execution_count": 4,
   "id": "heard-cathedral",
   "metadata": {},
   "outputs": [],
   "source": [
    "tempcash = files[files['TICKER'] == 'CASH'].drop('DATE', axis = 1)\n",
    "cash = files[['DATE']].copy().drop_duplicates()\n",
    "\n",
    "for col in tempcash.columns:\n",
    "    cash[col] = tempcash[col][0]\n",
    "    \n",
    "files = pd.concat([files[files['TICKER'] != 'CASH'], cash])"
   ]
  },
  {
   "cell_type": "code",
   "execution_count": 5,
   "id": "following-england",
   "metadata": {},
   "outputs": [
    {
     "data": {
      "text/html": [
       "<div>\n",
       "<style scoped>\n",
       "    .dataframe tbody tr th:only-of-type {\n",
       "        vertical-align: middle;\n",
       "    }\n",
       "\n",
       "    .dataframe tbody tr th {\n",
       "        vertical-align: top;\n",
       "    }\n",
       "\n",
       "    .dataframe thead th {\n",
       "        text-align: right;\n",
       "    }\n",
       "</style>\n",
       "<table border=\"1\" class=\"dataframe\">\n",
       "  <thead>\n",
       "    <tr style=\"text-align: right;\">\n",
       "      <th></th>\n",
       "      <th>DATE</th>\n",
       "      <th>OPEN</th>\n",
       "      <th>HIGH</th>\n",
       "      <th>LOW</th>\n",
       "      <th>CLOSE</th>\n",
       "      <th>VOL</th>\n",
       "      <th>OI</th>\n",
       "      <th>P</th>\n",
       "      <th>R</th>\n",
       "      <th>RINFO</th>\n",
       "      <th>TICKER</th>\n",
       "    </tr>\n",
       "  </thead>\n",
       "  <tbody>\n",
       "    <tr>\n",
       "      <th>1</th>\n",
       "      <td>1990-01-02</td>\n",
       "      <td>77300.0</td>\n",
       "      <td>77400.0</td>\n",
       "      <td>77020.0</td>\n",
       "      <td>77020.0</td>\n",
       "      <td>1.250000e+02</td>\n",
       "      <td>2559.0</td>\n",
       "      <td>0.0</td>\n",
       "      <td>0.0</td>\n",
       "      <td>0.0</td>\n",
       "      <td>F_AD</td>\n",
       "    </tr>\n",
       "    <tr>\n",
       "      <th>2</th>\n",
       "      <td>1990-01-03</td>\n",
       "      <td>76890.0</td>\n",
       "      <td>77030.0</td>\n",
       "      <td>76700.0</td>\n",
       "      <td>76740.0</td>\n",
       "      <td>1.495000e+03</td>\n",
       "      <td>3215.0</td>\n",
       "      <td>0.0</td>\n",
       "      <td>0.0</td>\n",
       "      <td>0.0</td>\n",
       "      <td>F_AD</td>\n",
       "    </tr>\n",
       "    <tr>\n",
       "      <th>3</th>\n",
       "      <td>1990-01-04</td>\n",
       "      <td>77080.0</td>\n",
       "      <td>77610.0</td>\n",
       "      <td>77000.0</td>\n",
       "      <td>77490.0</td>\n",
       "      <td>9.320000e+02</td>\n",
       "      <td>3122.0</td>\n",
       "      <td>0.0</td>\n",
       "      <td>0.0</td>\n",
       "      <td>0.0</td>\n",
       "      <td>F_AD</td>\n",
       "    </tr>\n",
       "    <tr>\n",
       "      <th>4</th>\n",
       "      <td>1990-01-05</td>\n",
       "      <td>77050.0</td>\n",
       "      <td>77280.0</td>\n",
       "      <td>76980.0</td>\n",
       "      <td>76980.0</td>\n",
       "      <td>2.720000e+02</td>\n",
       "      <td>2542.0</td>\n",
       "      <td>0.0</td>\n",
       "      <td>0.0</td>\n",
       "      <td>0.0</td>\n",
       "      <td>F_AD</td>\n",
       "    </tr>\n",
       "    <tr>\n",
       "      <th>5</th>\n",
       "      <td>1990-01-08</td>\n",
       "      <td>77280.0</td>\n",
       "      <td>77300.0</td>\n",
       "      <td>77090.0</td>\n",
       "      <td>77200.0</td>\n",
       "      <td>1.770000e+02</td>\n",
       "      <td>2430.0</td>\n",
       "      <td>0.0</td>\n",
       "      <td>0.0</td>\n",
       "      <td>0.0</td>\n",
       "      <td>F_AD</td>\n",
       "    </tr>\n",
       "    <tr>\n",
       "      <th>...</th>\n",
       "      <td>...</td>\n",
       "      <td>...</td>\n",
       "      <td>...</td>\n",
       "      <td>...</td>\n",
       "      <td>...</td>\n",
       "      <td>...</td>\n",
       "      <td>...</td>\n",
       "      <td>...</td>\n",
       "      <td>...</td>\n",
       "      <td>...</td>\n",
       "      <td>...</td>\n",
       "    </tr>\n",
       "    <tr>\n",
       "      <th>479691</th>\n",
       "      <td>1998-03-22</td>\n",
       "      <td>1.0</td>\n",
       "      <td>1.0</td>\n",
       "      <td>1.0</td>\n",
       "      <td>1.0</td>\n",
       "      <td>1.000000e+11</td>\n",
       "      <td>0.0</td>\n",
       "      <td>0.0</td>\n",
       "      <td>0.0</td>\n",
       "      <td>0.0</td>\n",
       "      <td>CASH</td>\n",
       "    </tr>\n",
       "    <tr>\n",
       "      <th>479748</th>\n",
       "      <td>1998-06-21</td>\n",
       "      <td>1.0</td>\n",
       "      <td>1.0</td>\n",
       "      <td>1.0</td>\n",
       "      <td>1.0</td>\n",
       "      <td>1.000000e+11</td>\n",
       "      <td>0.0</td>\n",
       "      <td>0.0</td>\n",
       "      <td>0.0</td>\n",
       "      <td>0.0</td>\n",
       "      <td>CASH</td>\n",
       "    </tr>\n",
       "    <tr>\n",
       "      <th>564314</th>\n",
       "      <td>1989-05-01</td>\n",
       "      <td>1.0</td>\n",
       "      <td>1.0</td>\n",
       "      <td>1.0</td>\n",
       "      <td>1.0</td>\n",
       "      <td>1.000000e+11</td>\n",
       "      <td>0.0</td>\n",
       "      <td>0.0</td>\n",
       "      <td>0.0</td>\n",
       "      <td>0.0</td>\n",
       "      <td>CASH</td>\n",
       "    </tr>\n",
       "    <tr>\n",
       "      <th>564397</th>\n",
       "      <td>1989-08-28</td>\n",
       "      <td>1.0</td>\n",
       "      <td>1.0</td>\n",
       "      <td>1.0</td>\n",
       "      <td>1.0</td>\n",
       "      <td>1.000000e+11</td>\n",
       "      <td>0.0</td>\n",
       "      <td>0.0</td>\n",
       "      <td>0.0</td>\n",
       "      <td>0.0</td>\n",
       "      <td>CASH</td>\n",
       "    </tr>\n",
       "    <tr>\n",
       "      <th>564480</th>\n",
       "      <td>1989-12-26</td>\n",
       "      <td>1.0</td>\n",
       "      <td>1.0</td>\n",
       "      <td>1.0</td>\n",
       "      <td>1.0</td>\n",
       "      <td>1.000000e+11</td>\n",
       "      <td>0.0</td>\n",
       "      <td>0.0</td>\n",
       "      <td>0.0</td>\n",
       "      <td>0.0</td>\n",
       "      <td>CASH</td>\n",
       "    </tr>\n",
       "  </tbody>\n",
       "</table>\n",
       "<p>582233 rows × 11 columns</p>\n",
       "</div>"
      ],
      "text/plain": [
       "             DATE     OPEN     HIGH      LOW    CLOSE           VOL      OI  \\\n",
       "1      1990-01-02  77300.0  77400.0  77020.0  77020.0  1.250000e+02  2559.0   \n",
       "2      1990-01-03  76890.0  77030.0  76700.0  76740.0  1.495000e+03  3215.0   \n",
       "3      1990-01-04  77080.0  77610.0  77000.0  77490.0  9.320000e+02  3122.0   \n",
       "4      1990-01-05  77050.0  77280.0  76980.0  76980.0  2.720000e+02  2542.0   \n",
       "5      1990-01-08  77280.0  77300.0  77090.0  77200.0  1.770000e+02  2430.0   \n",
       "...           ...      ...      ...      ...      ...           ...     ...   \n",
       "479691 1998-03-22      1.0      1.0      1.0      1.0  1.000000e+11     0.0   \n",
       "479748 1998-06-21      1.0      1.0      1.0      1.0  1.000000e+11     0.0   \n",
       "564314 1989-05-01      1.0      1.0      1.0      1.0  1.000000e+11     0.0   \n",
       "564397 1989-08-28      1.0      1.0      1.0      1.0  1.000000e+11     0.0   \n",
       "564480 1989-12-26      1.0      1.0      1.0      1.0  1.000000e+11     0.0   \n",
       "\n",
       "          P    R  RINFO TICKER  \n",
       "1       0.0  0.0    0.0   F_AD  \n",
       "2       0.0  0.0    0.0   F_AD  \n",
       "3       0.0  0.0    0.0   F_AD  \n",
       "4       0.0  0.0    0.0   F_AD  \n",
       "5       0.0  0.0    0.0   F_AD  \n",
       "...     ...  ...    ...    ...  \n",
       "479691  0.0  0.0    0.0   CASH  \n",
       "479748  0.0  0.0    0.0   CASH  \n",
       "564314  0.0  0.0    0.0   CASH  \n",
       "564397  0.0  0.0    0.0   CASH  \n",
       "564480  0.0  0.0    0.0   CASH  \n",
       "\n",
       "[582233 rows x 11 columns]"
      ]
     },
     "execution_count": 5,
     "metadata": {},
     "output_type": "execute_result"
    }
   ],
   "source": [
    "files"
   ]
  },
  {
   "cell_type": "code",
   "execution_count": 6,
   "id": "textile-chinese",
   "metadata": {},
   "outputs": [],
   "source": [
    "files = files.sort_values(['DATE','TICKER'])\n",
    "files['perc_return'] = files.groupby('TICKER').CLOSE.apply(pd.Series.pct_change)"
   ]
  },
  {
   "cell_type": "code",
   "execution_count": 7,
   "id": "compound-windows",
   "metadata": {},
   "outputs": [],
   "source": [
    "t = files[files['DATE'] < '2021-01-01']"
   ]
  },
  {
   "cell_type": "code",
   "execution_count": 8,
   "id": "addressed-monster",
   "metadata": {},
   "outputs": [],
   "source": [
    "c = t[['TICKER','DATE','CLOSE']].pivot(columns = 'TICKER',index='DATE',values='CLOSE').corr()"
   ]
  },
  {
   "cell_type": "code",
   "execution_count": 38,
   "id": "desperate-primary",
   "metadata": {},
   "outputs": [
    {
     "data": {
      "text/html": [
       "<div>\n",
       "<style scoped>\n",
       "    .dataframe tbody tr th:only-of-type {\n",
       "        vertical-align: middle;\n",
       "    }\n",
       "\n",
       "    .dataframe tbody tr th {\n",
       "        vertical-align: top;\n",
       "    }\n",
       "\n",
       "    .dataframe thead th {\n",
       "        text-align: right;\n",
       "    }\n",
       "</style>\n",
       "<table border=\"1\" class=\"dataframe\">\n",
       "  <thead>\n",
       "    <tr style=\"text-align: right;\">\n",
       "      <th></th>\n",
       "      <th></th>\n",
       "      <th>0</th>\n",
       "    </tr>\n",
       "    <tr>\n",
       "      <th>TICKER</th>\n",
       "      <th>TICKER</th>\n",
       "      <th></th>\n",
       "    </tr>\n",
       "  </thead>\n",
       "  <tbody>\n",
       "    <tr>\n",
       "      <th>F_US</th>\n",
       "      <th>F_RF</th>\n",
       "      <td>0.899055</td>\n",
       "    </tr>\n",
       "    <tr>\n",
       "      <th>F_SH</th>\n",
       "      <th>F_NQ</th>\n",
       "      <td>0.899545</td>\n",
       "    </tr>\n",
       "    <tr>\n",
       "      <th rowspan=\"2\" valign=\"top\">F_FM</th>\n",
       "      <th>F_SX</th>\n",
       "      <td>0.899568</td>\n",
       "    </tr>\n",
       "    <tr>\n",
       "      <th>F_DZ</th>\n",
       "      <td>0.899586</td>\n",
       "    </tr>\n",
       "    <tr>\n",
       "      <th>F_W</th>\n",
       "      <th>F_BO</th>\n",
       "      <td>0.900357</td>\n",
       "    </tr>\n",
       "    <tr>\n",
       "      <th>...</th>\n",
       "      <th>...</th>\n",
       "      <td>...</td>\n",
       "    </tr>\n",
       "    <tr>\n",
       "      <th>F_HO</th>\n",
       "      <th>F_BC</th>\n",
       "      <td>0.995543</td>\n",
       "    </tr>\n",
       "    <tr>\n",
       "      <th>F_RU</th>\n",
       "      <th>F_MD</th>\n",
       "      <td>0.996040</td>\n",
       "    </tr>\n",
       "    <tr>\n",
       "      <th>F_BC</th>\n",
       "      <th>F_BG</th>\n",
       "      <td>0.996411</td>\n",
       "    </tr>\n",
       "    <tr>\n",
       "      <th>F_HP</th>\n",
       "      <th>F_NG</th>\n",
       "      <td>0.998636</td>\n",
       "    </tr>\n",
       "    <tr>\n",
       "      <th>F_HO</th>\n",
       "      <th>F_BG</th>\n",
       "      <td>0.998653</td>\n",
       "    </tr>\n",
       "  </tbody>\n",
       "</table>\n",
       "<p>200 rows × 1 columns</p>\n",
       "</div>"
      ],
      "text/plain": [
       "                      0\n",
       "TICKER TICKER          \n",
       "F_US   F_RF    0.899055\n",
       "F_SH   F_NQ    0.899545\n",
       "F_FM   F_SX    0.899568\n",
       "       F_DZ    0.899586\n",
       "F_W    F_BO    0.900357\n",
       "...                 ...\n",
       "F_HO   F_BC    0.995543\n",
       "F_RU   F_MD    0.996040\n",
       "F_BC   F_BG    0.996411\n",
       "F_HP   F_NG    0.998636\n",
       "F_HO   F_BG    0.998653\n",
       "\n",
       "[200 rows x 1 columns]"
      ]
     },
     "execution_count": 38,
     "metadata": {},
     "output_type": "execute_result"
    }
   ],
   "source": [
    "c = c.abs()\n",
    "s = c.unstack()\n",
    "so = s.sort_values(kind=\"quicksort\")\n",
    "\n",
    "corrs = pd.DataFrame(so).dropna()\n",
    "corrs[corrs[0] != 1].drop_duplicates(0).tail(200)"
   ]
  },
  {
   "cell_type": "code",
   "execution_count": 42,
   "id": "greater-winner",
   "metadata": {},
   "outputs": [],
   "source": [
    "# # plot ratio between F_NG and F_HP\n",
    "\n",
    "# ng = t[t['TICKER']=='F_N'].reset_index()\n",
    "# hp = t[t['TICKER']=='F_HP'].reset_index()\n",
    "\n",
    "bc = t[t['TICKER']=='F_W'].reset_index()\n",
    "bg = t[t['TICKER']=='F_BO'].reset_index()\n",
    "\n",
    "\n",
    "ec = t[t['TICKER']=='F_EC'].reset_index()\n",
    "dx = t[t['TICKER']=='F_DX'].reset_index()"
   ]
  },
  {
   "cell_type": "code",
   "execution_count": 91,
   "id": "dense-warrant",
   "metadata": {},
   "outputs": [],
   "source": [
    "import matplotlib.pyplot as plt"
   ]
  },
  {
   "cell_type": "code",
   "execution_count": 43,
   "id": "recognized-reynolds",
   "metadata": {},
   "outputs": [
    {
     "data": {
      "text/plain": [
       "0.7986406815909662"
      ]
     },
     "execution_count": 43,
     "metadata": {},
     "output_type": "execute_result"
    }
   ],
   "source": [
    "x1 = bg.set_index('DATE').CLOSE/bc.set_index('DATE').CLOSE\n",
    "x1 = x1.dropna()\n",
    "x1.mean()"
   ]
  },
  {
   "cell_type": "code",
   "execution_count": 29,
   "id": "breathing-melissa",
   "metadata": {},
   "outputs": [
    {
     "data": {
      "text/plain": [
       "1.6944520278408013"
      ]
     },
     "execution_count": 29,
     "metadata": {},
     "output_type": "execute_result"
    }
   ],
   "source": [
    "x2 = ec.set_index('DATE').CLOSE/dx.set_index('DATE').CLOSE\n",
    "x2 = x2.dropna()\n",
    "x2.mean()"
   ]
  },
  {
   "cell_type": "code",
   "execution_count": 14,
   "id": "minus-beaver",
   "metadata": {},
   "outputs": [],
   "source": [
    "import matplotlib.pyplot as plt"
   ]
  },
  {
   "cell_type": "code",
   "execution_count": 44,
   "id": "posted-theology",
   "metadata": {
    "tags": []
   },
   "outputs": [
    {
     "data": {
      "text/plain": [
       "[<matplotlib.lines.Line2D at 0x2b0ca241f48>]"
      ]
     },
     "execution_count": 44,
     "metadata": {},
     "output_type": "execute_result"
    },
    {
     "data": {
      "image/png": "[encoded data removed]",
      "text/plain": [
       "<Figure size 1080x360 with 1 Axes>"
      ]
     },
     "metadata": {},
     "output_type": "display_data"
    }
   ],
   "source": [
    "plt.style.use('seaborn')\n",
    "plt.figure(figsize=(15,5))\n",
    "\n",
    "#plt.plot(ng.DATE, ng.CLOSE/hp.CLOSE)\n",
    "#plt.plot(bg.DATE, bg.CLOSE/ho.CLOSE, )\n",
    "plt.plot(x1)\n",
    "#plt.plot(x2)\n",
    "#plt.legend(['ng-hp','bg-ho','bg-bc'])"
   ]
  },
  {
   "cell_type": "code",
   "execution_count": 117,
   "id": "dying-joining",
   "metadata": {},
   "outputs": [],
   "source": [
    "x = pd.DataFrame( index= bg.DATE).reset_index()\n",
    "x['ratio'] = bg.CLOSE/bc.CLOSE"
   ]
  },
  {
   "cell_type": "code",
   "execution_count": null,
   "id": "korean-product",
   "metadata": {},
   "outputs": [],
   "source": []
  },
  {
   "cell_type": "code",
   "execution_count": 120,
   "id": "lesser-chorus",
   "metadata": {},
   "outputs": [
    {
     "data": {
      "text/html": [
       "<div>\n",
       "<style scoped>\n",
       "    .dataframe tbody tr th:only-of-type {\n",
       "        vertical-align: middle;\n",
       "    }\n",
       "\n",
       "    .dataframe tbody tr th {\n",
       "        vertical-align: top;\n",
       "    }\n",
       "\n",
       "    .dataframe thead th {\n",
       "        text-align: right;\n",
       "    }\n",
       "</style>\n",
       "<table border=\"1\" class=\"dataframe\">\n",
       "  <thead>\n",
       "    <tr style=\"text-align: right;\">\n",
       "      <th></th>\n",
       "      <th>DATE</th>\n",
       "      <th>ratio</th>\n",
       "    </tr>\n",
       "  </thead>\n",
       "  <tbody>\n",
       "    <tr>\n",
       "      <th>6548</th>\n",
       "      <td>2012-03-21</td>\n",
       "      <td>1.812048</td>\n",
       "    </tr>\n",
       "  </tbody>\n",
       "</table>\n",
       "</div>"
      ],
      "text/plain": [
       "           DATE     ratio\n",
       "6548 2012-03-21  1.812048"
      ]
     },
     "execution_count": 120,
     "metadata": {},
     "output_type": "execute_result"
    }
   ],
   "source": [
    "x[x['DATE'] == '2012-03-21']"
   ]
  },
  {
   "cell_type": "code",
   "execution_count": 103,
   "id": "innovative-projector",
   "metadata": {},
   "outputs": [
    {
     "data": {
      "text/plain": [
       "<matplotlib.legend.Legend at 0x27108953cc8>"
      ]
     },
     "execution_count": 103,
     "metadata": {},
     "output_type": "execute_result"
    },
    {
     "data": {
      "image/png": "[encoded data removed]",
      "text/plain": [
       "<Figure size 576x396 with 1 Axes>"
      ]
     },
     "metadata": {},
     "output_type": "display_data"
    }
   ],
   "source": [
    "plt.plot(ng.DATE, ng.perc_return/hp.perc_return)\n",
    "plt.plot(bg.DATE, bg.perc_return/ho.perc_return)\n",
    "plt.plot(bg.DATE, bg.perc_return/bc.perc_return)\n",
    "plt.legend(['ng-hp','bg-ho','bg-bc'])"
   ]
  },
  {
   "cell_type": "code",
   "execution_count": null,
   "id": "differential-colleague",
   "metadata": {},
   "outputs": [],
   "source": [
    "#red and green are mean reverting to 1\n",
    "\n",
    "upper_threshold  = 0.5\n",
    "lower_threshold = 0.2\n",
    "\n",
    "#for red:\n",
    "\n",
    "pos = np.zeros(nMarkets)\n",
    "\n",
    "for i in range(0, nMarkets - 1):\n",
    "    future_name = markets[i + 1]\n",
    "    if future_name == 'F_BG':\n",
    "        close =  np.transpose(CLOSE)[i]\n",
    "        fbg_price = close[0]\n",
    "        fbg_i = i\n",
    "    if future_name == 'F_BC':\n",
    "        close =  np.transpose(CLOSE)[i]\n",
    "        fbc_price = close[0]\n",
    "        fbc_i = i\n",
    "    \n",
    "if fbg_price/fbc_price >1 + upper_threshold:\n",
    "    #short fbg long fbc\n",
    "    weights = pos\n",
    "    weights[fbc_i] = 1\n",
    "    weights[fbg_i] = -1\n",
    "    \n",
    "elif fbg_price/fbc_price < 1- lower_threshold:\n",
    "    #long fbg short fbc\n",
    "    weights = pos\n",
    "    weights[fbc_i] = -1\n",
    "    weights[fbg_i] = 1\n",
    "    \n",
    "return weights\n",
    "    \n",
    "    \n",
    "        \n",
    "        \n",
    "        \n",
    "\n",
    "# if > 1, bg overpriced compared to bc\n",
    "\n",
    "\n",
    "\n",
    "\n",
    "\n",
    "\n",
    "# if < 1, bc overpriced compared to bg"
   ]
  }
 ],
 "metadata": {
  "kernelspec": {
   "display_name": "Python 3",
   "language": "python",
   "name": "python3"
  },
  "language_info": {
   "codemirror_mode": {
    "name": "ipython",
    "version": 3
   },
   "file_extension": ".py",
   "mimetype": "text/x-python",
   "name": "python",
   "nbconvert_exporter": "python",
   "pygments_lexer": "ipython3",
   "version": "3.7.10"
  }
 },
 "nbformat": 4,
 "nbformat_minor": 5
}
